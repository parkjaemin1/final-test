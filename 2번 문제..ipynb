{
 "cells": [
  {
   "cell_type": "markdown",
   "id": "401e4c51",
   "metadata": {},
   "source": [
    "# 다음 코드에서는 SVD모델를 활용한 빈칸을 채워 평균평점을 출력하는 코드를 작성하였음."
   ]
  },
  {
   "cell_type": "code",
   "execution_count": 1,
   "id": "d9430585",
   "metadata": {},
   "outputs": [],
   "source": [
    "# -*- coding: utf-8 -*-\n",
    "\n",
    "%matplotlib inline\n",
    "\n",
    "import time\n",
    "import operator\n",
    "\n",
    "import pandas as pd\n",
    "import numpy as np\n",
    "import matplotlib.pyplot as plt\n",
    "import seaborn as sns\n",
    "\n",
    "import warnings\n",
    "warnings.filterwarnings(\"ignore\")"
   ]
  },
  {
   "cell_type": "code",
   "execution_count": 12,
   "id": "25ca2f47",
   "metadata": {},
   "outputs": [],
   "source": [
    "# Data Source : https://grouplens.org/datasets/movielens\n",
    "## MovieLens 데이터셋의 기본 정보\n",
    "rating_file_path = \"../data/ml-1m/ratings.dat\"\n",
    "movie_file_path = \"../data/ml-1m/movies.dat\"\n",
    "user_file_path = \"../data/ml-1m/users.dat\"\n",
    "\n",
    "rating_data = pd.io.parsers.read_csv(rating_file_path, \n",
    "                                     names=['user_id', 'movie_id', 'rating', 'time'], delimiter='::')\n",
    "movie_data = pd.io.parsers.read_csv(movie_file_path, \n",
    "                                    names=['movie_id', 'title', 'genre'], delimiter='::')\n",
    "user_data = pd.io.parsers.read_csv(user_file_path, \n",
    "                                   names=['user_id', 'gender', 'age', 'occupation', 'zipcode'], delimiter='::') "
   ]
  },
  {
   "cell_type": "code",
   "execution_count": 11,
   "id": "1a6a8db8",
   "metadata": {},
   "outputs": [],
   "source": [
    "from surprise import SVD, Dataset, Reader, accuracy\n",
    "from surprise.model_selection import train_test_split\n",
    "#Surprise 라이브러리를 사용하여 SVD 모델을 초기화하고, \n",
    "#데이터를 학습 데이터와 테스트 데이터로 분리한 뒤 모델을 훈련하고 예측을 수행\n",
    "\n",
    "np.set_printoptions(suppress=True)\n",
    "\n",
    "reader = Reader(rating_scale=(1, 10))"
   ]
  },
  {
   "cell_type": "code",
   "execution_count": 13,
   "id": "a809d8d3",
   "metadata": {},
   "outputs": [],
   "source": [
    "# 데이터 프레임을 생성합니다.\n",
    "ratings_dict = {'item_id': [1,1,1,2,2,3,3,3,4],\n",
    "                'user_id': ['a','b','d','a','c','a','b','d','c'],\n",
    "                'rating': [8,6,7,9,8,8,7,8,8]}\n",
    "df = pd.DataFrame(ratings_dict)"
   ]
  },
  {
   "cell_type": "code",
   "execution_count": 14,
   "id": "040f1818",
   "metadata": {},
   "outputs": [],
   "source": [
    "# SVD 사용을 위한 데이터셋을 생성합니다.\n",
    "data = Dataset.load_from_df(df=df[[\"user_id\", \"item_id\", \"rating\"]], reader=reader)\n",
    "train_data = data.build_full_trainset()"
   ]
  },
  {
   "cell_type": "code",
   "execution_count": 15,
   "id": "921773dd",
   "metadata": {},
   "outputs": [
    {
     "name": "stdout",
     "output_type": "stream",
     "text": [
      "      movie_id  predicted_rating\n",
      "0            1          4.515219\n",
      "1            2          3.280705\n",
      "2            3          3.163209\n",
      "3            4          2.931817\n",
      "4            5          3.267238\n",
      "...        ...               ...\n",
      "3857      3948          3.843249\n",
      "3858      3949          4.115211\n",
      "3859      3950          3.974388\n",
      "3860      3951          4.194489\n",
      "3861      3952          4.131510\n",
      "\n",
      "[3862 rows x 2 columns]\n"
     ]
    }
   ],
   "source": [
    "# Surprise 라이브러리를 위한 데이터셋 생성\n",
    "reader = Reader(rating_scale=(1, 10))\n",
    "data = Dataset.load_from_df(rating_data[['user_id', 'movie_id', 'rating']], reader)\n",
    "\n",
    "# SVD 모델 초기화 및 학습\n",
    "model = SVD()\n",
    "trainset = data.build_full_trainset()\n",
    "model.fit(trainset)\n",
    "\n",
    "# 4번 사용자가 안 본 액션 영화들을 추출합니다.\n",
    "unseen_action_movies = movie_data.loc[~movie_data['movie_id'].isin(rating_data.loc[rating_data['user_id'] == 4, 'movie_id']), 'movie_id']\n",
    "\n",
    "# 4번 사용자가 안 본 액션 영화들에 대한 평균 평점을 예측합니다.\n",
    "predictions = []\n",
    "for movie_id in unseen_action_movies:\n",
    "    prediction = model.predict(4, movie_id)\n",
    "    predictions.append((movie_id, prediction.est))\n",
    "\n",
    "# 예측 결과를 데이터프레임으로 변환하여 출력합니다.\n",
    "prediction_df = pd.DataFrame(predictions, columns=['movie_id', 'predicted_rating'])\n",
    "print(prediction_df)"
   ]
  },
  {
   "cell_type": "code",
   "execution_count": null,
   "id": "2db29469",
   "metadata": {},
   "outputs": [],
   "source": []
  }
 ],
 "metadata": {
  "kernelspec": {
   "display_name": "Python 3 (ipykernel)",
   "language": "python",
   "name": "python3"
  },
  "language_info": {
   "codemirror_mode": {
    "name": "ipython",
    "version": 3
   },
   "file_extension": ".py",
   "mimetype": "text/x-python",
   "name": "python",
   "nbconvert_exporter": "python",
   "pygments_lexer": "ipython3",
   "version": "3.8.16"
  }
 },
 "nbformat": 4,
 "nbformat_minor": 5
}
