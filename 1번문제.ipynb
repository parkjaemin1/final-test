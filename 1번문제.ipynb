{
 "cells": [
  {
   "cell_type": "markdown",
   "id": "13968427",
   "metadata": {},
   "source": [
    "# 국내 프로야구 예측 모델의 평가로 column으로 갖는 dataframe로 예측 하는 모델을 출력하는 코드를 작성하였음"
   ]
  },
  {
   "cell_type": "code",
   "execution_count": 4,
   "id": "ef853ff9",
   "metadata": {},
   "outputs": [],
   "source": [
    "# -*- coding: utf-8 -*-\n",
    "\n",
    "%matplotlib inline\n",
    "\n",
    "import pandas as pd\n",
    "import numpy as np\n",
    "import matplotlib.pyplot as plt\n",
    "\n",
    "import warnings\n",
    "warnings.filterwarnings(\"ignore\")"
   ]
  },
  {
   "cell_type": "code",
   "execution_count": 5,
   "id": "85aacda8",
   "metadata": {},
   "outputs": [],
   "source": [
    "# Data Source : http://www.statiz.co.kr/\n",
    "#데이터의 기본정보\n",
    "\n",
    "picher_file_path = '../data/picher_stats_2017.csv'\n",
    "batter_file_path = '../data/batter_stats_2017.csv'\n",
    "picher = pd.read_csv(picher_file_path)\n",
    "batter = pd.read_csv(batter_file_path)"
   ]
  },
  {
   "cell_type": "code",
   "execution_count": 27,
   "id": "9a3d6c4a",
   "metadata": {},
   "outputs": [
    {
     "name": "stdout",
     "output_type": "stream",
     "text": [
      "     선수명      예측선발수  실제선발수\n",
      "68   신재웅  -1.035654      0\n",
      "147  장민재   8.162061      5\n",
      "96   조근종   0.895204      0\n",
      "82   장지훈   0.357424      0\n",
      "135  송창식   3.991782      0\n",
      "139  이종혁   1.176092      0\n",
      "26   김진성   4.262665      0\n",
      "12   임기영  19.143374     19\n",
      "18   임찬규  21.225992     26\n",
      "15   송승준  20.600807     22\n"
     ]
    }
   ],
   "source": [
    "# 데이터 파일 경로\n",
    "picher_file_path = '../data/picher_stats_2017.csv'\n",
    "\n",
    "# 데이터 불러오기\n",
    "picher = pd.read_csv(picher_file_path)\n",
    "\n",
    "# 선수의 이름 열을 제외한 특성 선택\n",
    "features = picher.drop(['선발', '선수명', '팀명'], axis=1)\n",
    "\n",
    "# 선발 횟수를 예측할 레이블 선택\n",
    "labels = picher['선발']\n",
    "\n",
    "# 훈련 데이터와 테스트 데이터 분리\n",
    "X_train, X_test, y_train, y_test = train_test_split(features, labels, test_size=0.2, random_state=42)\n",
    "\n",
    "# 선형 회귀 모델 초기화\n",
    "model = LinearRegression()\n",
    "\n",
    "# 모델 훈련\n",
    "model.fit(X_train, y_train)\n",
    "\n",
    "# 테스트 데이터로 선발 횟수 예측\n",
    "predictions = model.predict(X_test)\n",
    "\n",
    "# 예측 결과를 데이터프레임으로 변환\n",
    "result_df = pd.DataFrame({'선수명': picher['선수명'][X_test.index], '예측선발수': predictions, '실제선발수': y_test})\n",
    "# 처음 10개의 행 출력\n",
    "print(result_df.head(10))"
   ]
  },
  {
   "cell_type": "code",
   "execution_count": null,
   "id": "f45a92cc",
   "metadata": {},
   "outputs": [],
   "source": []
  }
 ],
 "metadata": {
  "kernelspec": {
   "display_name": "Python 3 (ipykernel)",
   "language": "python",
   "name": "python3"
  },
  "language_info": {
   "codemirror_mode": {
    "name": "ipython",
    "version": 3
   },
   "file_extension": ".py",
   "mimetype": "text/x-python",
   "name": "python",
   "nbconvert_exporter": "python",
   "pygments_lexer": "ipython3",
   "version": "3.8.16"
  }
 },
 "nbformat": 4,
 "nbformat_minor": 5
}
